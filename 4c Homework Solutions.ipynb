{
 "cells": [
  {
   "cell_type": "markdown",
   "id": "8cf9140e-7475-4bdb-9934-01432381bd37",
   "metadata": {},
   "source": [
    "# Hypothesis Testing"
   ]
  },
  {
   "cell_type": "markdown",
   "id": "54aeee21-dbf1-4c38-89de-91e799c40d21",
   "metadata": {},
   "source": [
    "### Homework Solutions"
   ]
  },
  {
   "cell_type": "markdown",
   "id": "506d26a5-0f86-4b97-938e-43575a1d90c9",
   "metadata": {},
   "source": [
    "Before you begin, remember to import the necessary libraries."
   ]
  },
  {
   "cell_type": "code",
   "execution_count": 1,
   "id": "aa3f79f9-da8c-4b95-9345-2cca1f3e007f",
   "metadata": {},
   "outputs": [],
   "source": [
    "import numpy as np\n",
    "import pandas as pd\n",
    "from scipy import stats\n",
    "\n",
    "import matplotlib.pyplot as plt\n",
    "import seaborn as sns\n",
    "sns.set_theme()"
   ]
  },
  {
   "cell_type": "code",
   "execution_count": 2,
   "id": "f4575083-5f19-4efb-8a7a-55c40d2f3620",
   "metadata": {},
   "outputs": [],
   "source": [
    "def abtest(df, exp_groups, exp_metric, n_rounds=2000, alpha=0.05): \n",
    "\n",
    "    a, b = df[exp_groups].unique()\n",
    "    mu_a = np.mean(df[df[exp_groups]==a][exp_metric])\n",
    "    mu_b = np.mean(df[df[exp_groups]==b][exp_metric])\n",
    "    ab_mu_diff = mu_a - mu_b\n",
    "    print('Observed difference statistic:', round(ab_mu_diff, 4))\n",
    "    \n",
    "    np.random.seed(1)\n",
    "    mu_diff_samples = []\n",
    "    for i in range(n_rounds): \n",
    "        # extract a subsample of 50% of data without replacement\n",
    "        df_sample1 = df.sample(frac=0.5, replace=False)\n",
    "        # use set() to get indexes of rows that were not extracted from df in previous step\n",
    "        ix2 = set(df.index) - set(df_sample1.index)\n",
    "        # create dataframe with other 50% of data\n",
    "        df_sample2 = df.iloc[list(ix2)]\n",
    "        # calculate difference in mean from each sample\n",
    "        mu_diff_temp = np.mean(df_sample1[exp_metric]) - np.mean(df_sample2[exp_metric])\n",
    "        # append sampled mean difference to mu_diff_samples list\n",
    "        mu_diff_samples.append(mu_diff_temp)\n",
    "    \n",
    "    sns.histplot(mu_diff_samples)\n",
    "    plt.axvline(ab_mu_diff, 0, 1, color='r', linestyle='--')\n",
    "    plt.show()\n",
    "    \n",
    "    print('Values more extreme than observed:', sum([el >= ab_mu_diff for el in mu_diff_samples]))\n",
    "    p_value = sum([el > ab_mu_diff for el in mu_diff_samples])/n_rounds\n",
    "    print('p-value:', p_value)\n",
    "    \n",
    "    if p_value <= alpha: \n",
    "        print('H0 rejected | the observed result is statistically significant | p-value <= alpha')\n",
    "    else: \n",
    "        print('H0 accepted | the observed result is not statistically significant | p-value > alpha')\n",
    "        \n",
    "    #return {'samples': mu_diff_samples, 'pvalue': p_value}"
   ]
  },
  {
   "cell_type": "markdown",
   "id": "4ba225d4-c8c9-4a0d-8941-1a9ff4568215",
   "metadata": {},
   "source": [
    "Load the `homework-ab-test-data.csv` dataset from the `data` folder to a DataFrame object named `df`. The dataset contains the results of an AB test conducted on the title of an article that runs on the homepage of your website. Specifically, you think that rather than leaving the current title (\"title_control\"), changing it to an improved version (\"title_test\") would increase the interest and engagement of your visitors. "
   ]
  },
  {
   "cell_type": "markdown",
   "id": "27b547cd-6c30-4812-9cab-5145ae5fc546",
   "metadata": {},
   "source": [
    "1. After you've analysed the data and produced some appropriate preliminary descriptive statistic (count, sum, mean, ...) of the `time_on_homepage` metric for each group in the experiment, test the hypothesis (using a permutation test) that the \"title_test\" page resulted in a significantly higher average `time_on_homepage`. Make sure you print the test statistic, an histogram of the sampled distribution, the p-value and choose an appropriate alpha level. Then state your conclusions."
   ]
  },
  {
   "cell_type": "code",
   "execution_count": 3,
   "id": "df9d3a30-1cd0-44ee-8b04-74066b344fd2",
   "metadata": {},
   "outputs": [],
   "source": [
    "df = pd.read_csv('data/homework-ab-test-data.csv')"
   ]
  },
  {
   "cell_type": "code",
   "execution_count": 4,
   "id": "2319c13d-9484-4456-beac-1fe0b05de119",
   "metadata": {},
   "outputs": [
    {
     "data": {
      "text/html": [
       "<div>\n",
       "<style scoped>\n",
       "    .dataframe tbody tr th:only-of-type {\n",
       "        vertical-align: middle;\n",
       "    }\n",
       "\n",
       "    .dataframe tbody tr th {\n",
       "        vertical-align: top;\n",
       "    }\n",
       "\n",
       "    .dataframe thead th {\n",
       "        text-align: right;\n",
       "    }\n",
       "</style>\n",
       "<table border=\"1\" class=\"dataframe\">\n",
       "  <thead>\n",
       "    <tr style=\"text-align: right;\">\n",
       "      <th></th>\n",
       "      <th>id</th>\n",
       "      <th>visit_date</th>\n",
       "      <th>group</th>\n",
       "      <th>time_on_homepage</th>\n",
       "      <th>clicked_article</th>\n",
       "    </tr>\n",
       "  </thead>\n",
       "  <tbody>\n",
       "    <tr>\n",
       "      <th>0</th>\n",
       "      <td>uid1</td>\n",
       "      <td>2018-04-01</td>\n",
       "      <td>title_test</td>\n",
       "      <td>49.011609</td>\n",
       "      <td>0</td>\n",
       "    </tr>\n",
       "    <tr>\n",
       "      <th>1</th>\n",
       "      <td>uid2</td>\n",
       "      <td>2018-04-01</td>\n",
       "      <td>title_test</td>\n",
       "      <td>48.864515</td>\n",
       "      <td>0</td>\n",
       "    </tr>\n",
       "    <tr>\n",
       "      <th>2</th>\n",
       "      <td>uid3</td>\n",
       "      <td>2018-04-01</td>\n",
       "      <td>title_test</td>\n",
       "      <td>49.074667</td>\n",
       "      <td>0</td>\n",
       "    </tr>\n",
       "    <tr>\n",
       "      <th>3</th>\n",
       "      <td>uid4</td>\n",
       "      <td>2018-04-01</td>\n",
       "      <td>title_test</td>\n",
       "      <td>49.260109</td>\n",
       "      <td>1</td>\n",
       "    </tr>\n",
       "    <tr>\n",
       "      <th>4</th>\n",
       "      <td>uid5</td>\n",
       "      <td>2018-04-01</td>\n",
       "      <td>title_test</td>\n",
       "      <td>50.371898</td>\n",
       "      <td>1</td>\n",
       "    </tr>\n",
       "  </tbody>\n",
       "</table>\n",
       "</div>"
      ],
      "text/plain": [
       "     id  visit_date       group  time_on_homepage  clicked_article\n",
       "0  uid1  2018-04-01  title_test         49.011609                0\n",
       "1  uid2  2018-04-01  title_test         48.864515                0\n",
       "2  uid3  2018-04-01  title_test         49.074667                0\n",
       "3  uid4  2018-04-01  title_test         49.260109                1\n",
       "4  uid5  2018-04-01  title_test         50.371898                1"
      ]
     },
     "execution_count": 4,
     "metadata": {},
     "output_type": "execute_result"
    }
   ],
   "source": [
    "df.head()"
   ]
  },
  {
   "cell_type": "code",
   "execution_count": 7,
   "id": "63361c0e-f144-4ecc-825d-adcaa6e109a2",
   "metadata": {},
   "outputs": [
    {
     "data": {
      "text/html": [
       "<div>\n",
       "<style scoped>\n",
       "    .dataframe tbody tr th:only-of-type {\n",
       "        vertical-align: middle;\n",
       "    }\n",
       "\n",
       "    .dataframe tbody tr th {\n",
       "        vertical-align: top;\n",
       "    }\n",
       "\n",
       "    .dataframe thead th {\n",
       "        text-align: right;\n",
       "    }\n",
       "</style>\n",
       "<table border=\"1\" class=\"dataframe\">\n",
       "  <thead>\n",
       "    <tr style=\"text-align: right;\">\n",
       "      <th></th>\n",
       "      <th>group</th>\n",
       "      <th>title_control</th>\n",
       "      <th>title_test</th>\n",
       "    </tr>\n",
       "  </thead>\n",
       "  <tbody>\n",
       "    <tr>\n",
       "      <th rowspan=\"8\" valign=\"top\">time_on_homepage</th>\n",
       "      <th>count</th>\n",
       "      <td>15000.000000</td>\n",
       "      <td>15000.000000</td>\n",
       "    </tr>\n",
       "    <tr>\n",
       "      <th>mean</th>\n",
       "      <td>49.994889</td>\n",
       "      <td>49.999093</td>\n",
       "    </tr>\n",
       "    <tr>\n",
       "      <th>std</th>\n",
       "      <td>1.000167</td>\n",
       "      <td>1.006684</td>\n",
       "    </tr>\n",
       "    <tr>\n",
       "      <th>min</th>\n",
       "      <td>46.095672</td>\n",
       "      <td>46.245660</td>\n",
       "    </tr>\n",
       "    <tr>\n",
       "      <th>25%</th>\n",
       "      <td>49.328043</td>\n",
       "      <td>49.322190</td>\n",
       "    </tr>\n",
       "    <tr>\n",
       "      <th>50%</th>\n",
       "      <td>49.996765</td>\n",
       "      <td>50.003084</td>\n",
       "    </tr>\n",
       "    <tr>\n",
       "      <th>75%</th>\n",
       "      <td>50.666190</td>\n",
       "      <td>50.672819</td>\n",
       "    </tr>\n",
       "    <tr>\n",
       "      <th>max</th>\n",
       "      <td>54.023849</td>\n",
       "      <td>53.937622</td>\n",
       "    </tr>\n",
       "    <tr>\n",
       "      <th rowspan=\"8\" valign=\"top\">clicked_article</th>\n",
       "      <th>count</th>\n",
       "      <td>15000.000000</td>\n",
       "      <td>15000.000000</td>\n",
       "    </tr>\n",
       "    <tr>\n",
       "      <th>mean</th>\n",
       "      <td>0.069067</td>\n",
       "      <td>0.166267</td>\n",
       "    </tr>\n",
       "    <tr>\n",
       "      <th>std</th>\n",
       "      <td>0.253576</td>\n",
       "      <td>0.372332</td>\n",
       "    </tr>\n",
       "    <tr>\n",
       "      <th>min</th>\n",
       "      <td>0.000000</td>\n",
       "      <td>0.000000</td>\n",
       "    </tr>\n",
       "    <tr>\n",
       "      <th>25%</th>\n",
       "      <td>0.000000</td>\n",
       "      <td>0.000000</td>\n",
       "    </tr>\n",
       "    <tr>\n",
       "      <th>50%</th>\n",
       "      <td>0.000000</td>\n",
       "      <td>0.000000</td>\n",
       "    </tr>\n",
       "    <tr>\n",
       "      <th>75%</th>\n",
       "      <td>0.000000</td>\n",
       "      <td>0.000000</td>\n",
       "    </tr>\n",
       "    <tr>\n",
       "      <th>max</th>\n",
       "      <td>1.000000</td>\n",
       "      <td>1.000000</td>\n",
       "    </tr>\n",
       "  </tbody>\n",
       "</table>\n",
       "</div>"
      ],
      "text/plain": [
       "group                   title_control    title_test\n",
       "time_on_homepage count   15000.000000  15000.000000\n",
       "                 mean       49.994889     49.999093\n",
       "                 std         1.000167      1.006684\n",
       "                 min        46.095672     46.245660\n",
       "                 25%        49.328043     49.322190\n",
       "                 50%        49.996765     50.003084\n",
       "                 75%        50.666190     50.672819\n",
       "                 max        54.023849     53.937622\n",
       "clicked_article  count   15000.000000  15000.000000\n",
       "                 mean        0.069067      0.166267\n",
       "                 std         0.253576      0.372332\n",
       "                 min         0.000000      0.000000\n",
       "                 25%         0.000000      0.000000\n",
       "                 50%         0.000000      0.000000\n",
       "                 75%         0.000000      0.000000\n",
       "                 max         1.000000      1.000000"
      ]
     },
     "execution_count": 7,
     "metadata": {},
     "output_type": "execute_result"
    }
   ],
   "source": [
    "df.groupby('group').describe().T"
   ]
  },
  {
   "cell_type": "code",
   "execution_count": 8,
   "id": "7ec201fc-63ef-4c23-abb2-9795af0fdc0d",
   "metadata": {},
   "outputs": [
    {
     "name": "stdout",
     "output_type": "stream",
     "text": [
      "Observed difference statistic: 0.0042\n"
     ]
    },
    {
     "data": {
      "image/png": "[encoded data removed]",
      "text/plain": [
       "<Figure size 432x288 with 1 Axes>"
      ]
     },
     "metadata": {},
     "output_type": "display_data"
    },
    {
     "name": "stdout",
     "output_type": "stream",
     "text": [
      "Values more extreme than observed: 687\n",
      "p-value: 0.3435\n",
      "H0 accepted | the observed result is not statistically significant | p-value > alpha\n"
     ]
    }
   ],
   "source": [
    "abtest(df, exp_groups='group', exp_metric='time_on_homepage')"
   ]
  },
  {
   "cell_type": "markdown",
   "id": "32e02644-ec52-4f71-ad6e-51798f7b905f",
   "metadata": {},
   "source": [
    "2. Run a hypothesis test (choose the one you prefer) to figure out whether the \"article_test\" receaved a higher number of `clicked_article`than the \"article_control\" group. "
   ]
  },
  {
   "cell_type": "code",
   "execution_count": 9,
   "id": "1d8f878f-2e34-4e8f-a620-bc6fbf91395a",
   "metadata": {},
   "outputs": [
    {
     "name": "stdout",
     "output_type": "stream",
     "text": [
      "Observed difference statistic: 0.0972\n"
     ]
    },
    {
     "data": {
      "image/png": "[encoded data removed]",
      "text/plain": [
       "<Figure size 432x288 with 1 Axes>"
      ]
     },
     "metadata": {},
     "output_type": "display_data"
    },
    {
     "name": "stdout",
     "output_type": "stream",
     "text": [
      "Values more extreme than observed: 0\n",
      "p-value: 0.0\n",
      "H0 rejected | the observed result is statistically significant | p-value <= alpha\n"
     ]
    }
   ],
   "source": [
    "abtest(df, exp_groups='group', exp_metric='clicked_article')"
   ]
  },
  {
   "cell_type": "markdown",
   "id": "1328d3b1-74c2-431e-8b78-3195b091819b",
   "metadata": {},
   "source": [
    "3. Come up with your own AB test and, after designing the experiment: \n",
    "    1. use an appropriate probability distribution to create a synthetic dataset that supports your experiment (create your own fake data); \n",
    "    2. using a permutation test, run an hypothesis test and state your conclusions (you will already know the result from step 1 of course). "
   ]
  },
  {
   "cell_type": "code",
   "execution_count": null,
   "id": "faf08fe9-7339-45dc-9d45-e155ab9bb5db",
   "metadata": {},
   "outputs": [],
   "source": []
  }
 ],
 "metadata": {
  "kernelspec": {
   "display_name": "Python 3 (ipykernel)",
   "language": "python",
   "name": "python3"
  },
  "language_info": {
   "codemirror_mode": {
    "name": "ipython",
    "version": 3
   },
   "file_extension": ".py",
   "mimetype": "text/x-python",
   "name": "python",
   "nbconvert_exporter": "python",
   "pygments_lexer": "ipython3",
   "version": "3.9.7"
  }
 },
 "nbformat": 4,
 "nbformat_minor": 5
}
