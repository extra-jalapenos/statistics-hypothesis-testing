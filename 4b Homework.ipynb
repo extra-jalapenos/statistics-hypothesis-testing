{
 "cells": [
  {
   "cell_type": "markdown",
   "id": "9ebb5865-b4c1-4adb-a255-c26d00bca7e7",
   "metadata": {},
   "source": [
    "# Hypothesis Testing"
   ]
  },
  {
   "cell_type": "markdown",
   "id": "54aeee21-dbf1-4c38-89de-91e799c40d21",
   "metadata": {},
   "source": [
    "### Homework"
   ]
  },
  {
   "cell_type": "markdown",
   "id": "506d26a5-0f86-4b97-938e-43575a1d90c9",
   "metadata": {},
   "source": [
    "Before you begin, remember to import the necessary libraries."
   ]
  },
  {
   "cell_type": "code",
   "execution_count": 5,
   "id": "aa3f79f9-da8c-4b95-9345-2cca1f3e007f",
   "metadata": {},
   "outputs": [],
   "source": [
    "import numpy as np\n",
    "import pandas as pd\n",
    "from scipy import stats\n",
    "\n",
    "import matplotlib.pyplot as plt\n",
    "import seaborn as sns\n",
    "sns.set_theme()"
   ]
  },
  {
   "cell_type": "markdown",
   "id": "4ba225d4-c8c9-4a0d-8941-1a9ff4568215",
   "metadata": {},
   "source": [
    "Load the `homework-ab-test-data.csv` dataset from the `data` folder to a DataFrame object named `df`. The dataset contains the results of an AB test conducted on the title of an article that runs on the homepage of your website. Specifically, you think that rather than leaving the current title (\"title_control\"), changing it to an improved version (\"title_test\") would increase the interest and engagement of your visitors. "
   ]
  },
  {
   "cell_type": "markdown",
   "id": "27b547cd-6c30-4812-9cab-5145ae5fc546",
   "metadata": {},
   "source": [
    "1. After you've analysed the data and produced some appropriate preliminary descriptive statistic (count, sum, mean, ...) of the `time_on_homepage` metric for each group in the experiment, test the hypothesis (using a permutation test) that the \"title_test\" page resulted in a significantly higher average `time_on_homepage`. Make sure you print the test statistic, an histogram of the sampled distribution, the p-value and choose an appropriate alpha level. Then state your conclusions."
   ]
  },
  {
   "cell_type": "code",
   "execution_count": null,
   "id": "ff40d0cf-8f77-4130-bf90-0d560b83bfd6",
   "metadata": {},
   "outputs": [],
   "source": []
  },
  {
   "cell_type": "markdown",
   "id": "32e02644-ec52-4f71-ad6e-51798f7b905f",
   "metadata": {},
   "source": [
    "2. Run a hypothesis test (choose the one you prefer) to figure out whether the \"article_test\" received a higher number of `clicked_article`than the \"article_control\" group. "
   ]
  },
  {
   "cell_type": "code",
   "execution_count": null,
   "id": "970ba88b-5f74-4e07-99e3-db59ec6be813",
   "metadata": {},
   "outputs": [],
   "source": []
  },
  {
   "cell_type": "markdown",
   "id": "1328d3b1-74c2-431e-8b78-3195b091819b",
   "metadata": {},
   "source": [
    "3. Come up with your own AB test and, after designing the experiment: \n",
    "    1. use an appropriate probability distribution to create a synthetic dataset that supports your experiment (create your own fake data); \n",
    "    2. using a permutation test, run an hypothesis test and state your conclusions (you will already know the result from step 1 of course). "
   ]
  },
  {
   "cell_type": "code",
   "execution_count": null,
   "id": "faf08fe9-7339-45dc-9d45-e155ab9bb5db",
   "metadata": {},
   "outputs": [],
   "source": []
  }
 ],
 "metadata": {
  "kernelspec": {
   "display_name": "Python 3 (ipykernel)",
   "language": "python",
   "name": "python3"
  },
  "language_info": {
   "codemirror_mode": {
    "name": "ipython",
    "version": 3
   },
   "file_extension": ".py",
   "mimetype": "text/x-python",
   "name": "python",
   "nbconvert_exporter": "python",
   "pygments_lexer": "ipython3",
   "version": "3.9.7"
  }
 },
 "nbformat": 4,
 "nbformat_minor": 5
}
